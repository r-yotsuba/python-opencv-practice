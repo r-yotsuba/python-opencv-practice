{
 "cells": [
  {
   "cell_type": "markdown",
   "metadata": {},
   "source": [
    "## Sample of getAffineTransform()\n",
    "\n",
    "### アフィン変換とは\n",
    "ある図形を回転させたり、引き延ばしたりする変換  \n",
    "以下の2つを組み合わせたものである。  \n",
    "- 平行移動\n",
    "- 線形変換 - 拡大縮小,回転など\n",
    "\n",
    "### getAffineTransform()\n",
    "3組の座標点でそれぞれ構成された入力画像・出力画像  \n",
    "から、アフィン変換を表す2\\*3の行列を求める\n",
    "\n",
    "---\n",
    "\n",
    "[opencv doc](https://docs.opencv.org/4.4.0/da/d54/group__imgproc__transform.html#ga8f6d378f9f8eebb5cb55cd3ae295a999)  \n",
    "[参考](https://note.nkmk.me/python-opencv-warp-affine-perspective/)"
   ]
  },
  {
   "cell_type": "code",
   "execution_count": 1,
   "metadata": {},
   "outputs": [],
   "source": [
    "import cv2\n",
    "\n",
    "import numpy as np\n",
    "from matplotlib import pyplot as plt"
   ]
  },
  {
   "cell_type": "code",
   "execution_count": 3,
   "metadata": {},
   "outputs": [
    {
     "name": "stdout",
     "output_type": "stream",
     "text": [
      "[[  0.57962963   0.22592593  65.83333333]\n",
      " [  0.13333333   0.86666667 -10.        ]]\n"
     ]
    }
   ],
   "source": [
    "src_pts = np.array([[30, 30], [50, 200], [350, 50]], dtype=np.float32)\n",
    "dst_pts = np.array([[90, 20], [140, 170], [280, 80]], dtype=np.float32)\n",
    "\n",
    "mat = cv2.getAffineTransform(src_pts, dst_pts)\n",
    "print(mat)"
   ]
  },
  {
   "cell_type": "code",
   "execution_count": null,
   "metadata": {},
   "outputs": [],
   "source": []
  }
 ],
 "metadata": {
  "kernelspec": {
   "display_name": "Python 3",
   "language": "python",
   "name": "python3"
  },
  "language_info": {
   "codemirror_mode": {
    "name": "ipython",
    "version": 3
   },
   "file_extension": ".py",
   "mimetype": "text/x-python",
   "name": "python",
   "nbconvert_exporter": "python",
   "pygments_lexer": "ipython3",
   "version": "3.8.3"
  }
 },
 "nbformat": 4,
 "nbformat_minor": 4
}
