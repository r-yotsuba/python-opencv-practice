{
 "cells": [
  {
   "cell_type": "markdown",
   "metadata": {},
   "source": [
    "## Sample of getStructuringElement()\n",
    "\n",
    "指定サイズのカーネルを作成する\n",
    "\n",
    "### Patameter\n",
    "- shape\n",
    "    - cv2.MORPH_RECT - すべて1\n",
    "    - cv2.MORPH_ELLIPSE - 楕円形\n",
    "    - cv2.MORPH_CROSS - 十字型\n",
    "- ksize\n",
    "    - カーネルのサイズ\n",
    "- anchor\n",
    "    - MORPH_CROSSのみ影響あり\n",
    "    - 十字の中心の座標を表す\n",
    "    - (-1, -1) : 特別な座標で、カーネルの中心を示す\n",
    "\n",
    "[opencv docs](https://docs.opencv.org/4.4.0/d4/d86/group__imgproc__filter.html#gac342a1bb6eabf6f55c803b09268e36dc)  \n",
    "[参考](https://geekn-nerd.blogspot.com/2012/03/3-opencv-for-android_20.html)"
   ]
  },
  {
   "cell_type": "code",
   "execution_count": 1,
   "metadata": {},
   "outputs": [],
   "source": [
    "import cv2\n",
    "\n",
    "import numpy as np\n",
    "from matplotlib import pyplot as plt"
   ]
  },
  {
   "cell_type": "code",
   "execution_count": 11,
   "metadata": {},
   "outputs": [
    {
     "name": "stdout",
     "output_type": "stream",
     "text": [
      "[[0 1 0 0 0]\n",
      " [1 1 1 1 1]\n",
      " [0 1 0 0 0]\n",
      " [0 1 0 0 0]\n",
      " [0 1 0 0 0]]\n"
     ]
    }
   ],
   "source": [
    "size = (5, 5)\n",
    "anchor = (1, 1)\n",
    "\n",
    "kernel=cv2.getStructuringElement(cv2.MORPH_CROSS, size, anchor)\n",
    "\n",
    "print(kernel)"
   ]
  },
  {
   "cell_type": "code",
   "execution_count": null,
   "metadata": {},
   "outputs": [],
   "source": []
  }
 ],
 "metadata": {
  "kernelspec": {
   "display_name": "Python 3",
   "language": "python",
   "name": "python3"
  },
  "language_info": {
   "codemirror_mode": {
    "name": "ipython",
    "version": 3
   },
   "file_extension": ".py",
   "mimetype": "text/x-python",
   "name": "python",
   "nbconvert_exporter": "python",
   "pygments_lexer": "ipython3",
   "version": "3.8.3"
  }
 },
 "nbformat": 4,
 "nbformat_minor": 4
}
